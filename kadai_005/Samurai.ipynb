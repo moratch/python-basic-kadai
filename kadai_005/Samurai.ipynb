{
  "nbformat": 4,
  "nbformat_minor": 0,
  "metadata": {
    "colab": {
      "provenance": []
    },
    "kernelspec": {
      "name": "python3",
      "display_name": "Python 3"
    },
    "language_info": {
      "name": "python"
    }
  },
  "cells": [
    {
      "cell_type": "code",
      "source": [
        "top = 10\n",
        "bottom = 20\n",
        "height = 5\n",
        "\n",
        "area = (top + bottom) * height / 2\n",
        "\n",
        "print(f\"{area}cm2\")"
      ],
      "metadata": {
        "colab": {
          "base_uri": "https://localhost:8080/"
        },
        "id": "BHUt9Kf0gbFB",
        "outputId": "e2606ce9-450a-42d6-b327-187497a1f50b"
      },
      "execution_count": 1,
      "outputs": [
        {
          "output_type": "stream",
          "name": "stdout",
          "text": [
            "75.0cm2\n"
          ]
        }
      ]
    }
  ]
}