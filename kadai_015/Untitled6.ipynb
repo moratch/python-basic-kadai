{
  "nbformat": 4,
  "nbformat_minor": 0,
  "metadata": {
    "colab": {
      "provenance": []
    },
    "kernelspec": {
      "name": "python3",
      "display_name": "Python 3"
    },
    "language_info": {
      "name": "python"
    }
  },
  "cells": [
    {
      "cell_type": "code",
      "execution_count": 3,
      "metadata": {
        "colab": {
          "base_uri": "https://localhost:8080/"
        },
        "id": "dV5l29TJ_qEy",
        "outputId": "ed979b90-001a-49c3-b2c6-2bbe4cd22807"
      },
      "outputs": [
        {
          "output_type": "stream",
          "name": "stdout",
          "text": [
            "名前: Yuichiro, 年齢: 35\n"
          ]
        }
      ],
      "source": [
        "class Human:\n",
        "  def __init__(self, name, age):\n",
        "    self.name = name\n",
        "    self.age =age\n",
        "  def printinfo(self):\n",
        "    print(f\"名前: {self.name}, 年齢: {self.age}\")\n",
        "\n",
        "person = Human(\"Yuichiro\", 35)\n",
        "person.printinfo()"
      ]
    },
    {
      "cell_type": "code",
      "source": [],
      "metadata": {
        "id": "uh4zSWsXBKkZ"
      },
      "execution_count": null,
      "outputs": []
    }
  ]
}