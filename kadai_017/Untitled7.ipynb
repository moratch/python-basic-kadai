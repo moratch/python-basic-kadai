{
  "nbformat": 4,
  "nbformat_minor": 0,
  "metadata": {
    "colab": {
      "provenance": []
    },
    "kernelspec": {
      "name": "python3",
      "display_name": "Python 3"
    },
    "language_info": {
      "name": "python"
    }
  },
  "cells": [
    {
      "cell_type": "code",
      "execution_count": null,
      "metadata": {
        "id": "8ZrjjiilFE5H"
      },
      "outputs": [],
      "source": [
        "class Human:\n",
        "  def __init__(self,name,age):\n",
        "    self.name = name\n",
        "    self.age = age\n",
        "\n",
        "  def check_adult(self):\n",
        "    if self.age >= 20:\n",
        "      print(self.name, \"は大人です。\")\n",
        "    else:\n",
        "      print(self.name, \"は大人ではないです。\")\n",
        "\n",
        "roommate = [\n",
        "    Human(\"Foden\", 7),\n",
        "    Human(\"Kane\", 22),\n",
        "    Human(\"Stones\",17),\n",
        "    Human(\"Son\",26)\n",
        "]\n",
        "\n",
        "for person in roommate:\n",
        "  person.check_adult()\n"
      ]
    }
  ]
}